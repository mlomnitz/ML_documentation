{
 "cells": [
  {
   "cell_type": "markdown",
   "metadata": {},
   "source": [
    "# Linear and logistic regression\n",
    "\n",
    "Linear regreesion is used in prediction for continuos variables while logistic regression is used for multiclass classification problems. Both are essentially, supervised methods.\n",
    "\n",
    "### Pros:\n",
    "- Simple to implement, with few hyperparameters\n",
    "- Good for problems with a strong linear trend\n",
    "- Many problems can be transformed into a linear problem \n",
    "- Computationally cheap\n",
    "\n",
    "### Cons:\n",
    "\n",
    "- Assumes little colinearity between variables \n",
    "- Assumes the errors on the data follow a normal distribution\n",
    "- Assumes the variance is independent \n",
    "- Sensitive to outliers\n",
    "\n",
    "### How they work:\n",
    "\n",
    "Both cases use the gradient at a local point to drive the parameter values towards a local(global) minima that best fits the data.\n",
    "\n",
    "### Linear regression\n",
    "In linear regression we are essentially fitting with a straight line, using the L2 norm as the objective funciton for optimization. \n",
    "\n",
    "<img src=\"ml_doc_images/LinearRegression_pred.png\" width=\"300px\"/>\n",
    "\n",
    "<img src=\"ml_doc_images/Linear_regression_obj.png\" width=\"350px\"/>\n",
    "\n",
    "At each step of the way we update the parameters using the local gradient (gradient descent algorithm), until convergence criteria is satisfied with the following:\n",
    "\n",
    "<img src=\"ml_doc_images/LinearRegression_gradient.png\" width=\"390px\"/>\n",
    "\n",
    "### Logistic regression\n",
    "In logistic regression we follow a similar approach as is done in linear regression, but convert the descrete variables to a continuos space by applying a sigmoid function, such that the predicted values are given by:\n",
    "\n",
    "<img src=\"ml_doc_images/LogisticPred.png\" width=\"130px\"/>\n",
    "\n",
    "The objective function for optimization is the cross-entropy function between classes, i.e:\n",
    "\n",
    "<img src=\"ml_doc_images/LogisticObj.png\" width=\"410px\" />\n",
    "\n",
    "For the minimization we use gradient descent once again:\n",
    "\n",
    "<img src=ml_doc_images/Logistic_gradient.png width=\"200px\"\\>\n"
   ]
  },
  {
   "cell_type": "markdown",
   "metadata": {},
   "source": [
    "# Illustrating the implementation from scratch (numpy)\n",
    " \n",
    "Lets initialize some dummy data assuming we have n=100 (_x_,_y_) measurments:"
   ]
  },
  {
   "cell_type": "code",
   "execution_count": 170,
   "metadata": {},
   "outputs": [
    {
     "data": {
      "text/plain": [
       "<matplotlib.collections.PathCollection at 0x12186cd30>"
      ]
     },
     "execution_count": 170,
     "metadata": {},
     "output_type": "execute_result"
    },
    {
     "data": {
      "image/png": "[encoded data removed]",
      "text/plain": [
       "<Figure size 432x288 with 1 Axes>"
      ]
     },
     "metadata": {},
     "output_type": "display_data"
    }
   ],
   "source": [
    "import numpy as np\n",
    "import matplotlib.pyplot as plot\n",
    "std_axis = 1\n",
    "step_size = 0.001\n",
    "stop_criteria = 0.01\n",
    "n_features = 1 #only have x,y points\n",
    "#\n",
    "X = np.random.normal(1,0.1,size=(100,1))\n",
    "Y = np.random.normal(1,0.1,size=(100,1))\n",
    "Y[:,0]+= X[:,0]\n",
    "plot.scatter(X,Y)"
   ]
  },
  {
   "cell_type": "markdown",
   "metadata": {},
   "source": [
    "### Lets define some functions used in defining the algorithm and running the minimization"
   ]
  },
  {
   "cell_type": "code",
   "execution_count": 180,
   "metadata": {},
   "outputs": [],
   "source": [
    "def cost_function(y_pred, X, Y):\n",
    "    N = len(y_pred)\n",
    "    return -1./N*np.dot((y_pred-Y).T,X)\n",
    "\n",
    "def predict_vals(W, X):\n",
    "    #print(np.dot(W,X.T).shape)\n",
    "    return np.dot(W,X.T).T\n",
    "\n",
    "def weight_updated(W,X, Y):\n",
    "    y_pred = predict_vals(W,X)\n",
    "    temp = np.dot(y_pred - Y, X.T)\n",
    "    return -1./len(y_pred)*np.sum(temp)\n",
    "\n",
    "def fit(X):\n",
    "    W = np.random.normal(0,0.1,(1,1))\n",
    "    curr_cost = cost_function(predict_vals(W,X), X,Y)\n",
    "    ii = 0\n",
    "    while curr_cost > stop_criteria:\n",
    "#     for i in range(10):\n",
    "        W+=step_size*weight_updated(W,X,Y)\n",
    "        curr_cost = cost_function(predict_vals(W,X), X,Y)\n",
    "        ii+=1\n",
    "        if ii%10 == 0:\n",
    "            print(cost_function(predict_vals(W,X), X,Y))\n",
    "    print(cost_function(predict_vals(W,X), X,Y))\n",
    "    return W"
   ]
  },
  {
   "cell_type": "code",
   "execution_count": 183,
   "metadata": {},
   "outputs": [
    {
     "name": "stdout",
     "output_type": "stream",
     "text": [
      "[[0.72274164]]\n",
      "[[0.23890554]]\n",
      "[[0.07409637]]\n",
      "[[0.0179574]]\n",
      "[[0.00995043]]\n",
      "(1, 1)\n"
     ]
    },
    {
     "data": {
      "text/plain": [
       "<matplotlib.collections.PathCollection at 0x121b85710>"
      ]
     },
     "execution_count": 183,
     "metadata": {},
     "output_type": "execute_result"
    },
    {
     "data": {
      "image/png": "[encoded data removed]",
      "text/plain": [
       "<Figure size 432x288 with 1 Axes>"
      ]
     },
     "metadata": {},
     "output_type": "display_data"
    }
   ],
   "source": [
    "W = fit(X)\n",
    "print(W.shape)\n",
    "fun = []\n",
    "xss = []\n",
    "for i in range(10):\n",
    "    x_v = (1.3-0.7)*i/10 + 0.7\n",
    "    xss.append(x_v)\n",
    "    fun.append(W*x_v)\n",
    "    \n",
    "plot.scatter(X,Y)\n",
    "plot.scatter(xss,fun)\n",
    "    \n",
    "    "
   ]
  },
  {
   "cell_type": "code",
   "execution_count": null,
   "metadata": {},
   "outputs": [],
   "source": []
  },
  {
   "cell_type": "code",
   "execution_count": null,
   "metadata": {},
   "outputs": [],
   "source": []
  }
 ],
 "metadata": {
  "kernelspec": {
   "display_name": "Python 3",
   "language": "python",
   "name": "python3"
  },
  "language_info": {
   "codemirror_mode": {
    "name": "ipython",
    "version": 3
   },
   "file_extension": ".py",
   "mimetype": "text/x-python",
   "name": "python",
   "nbconvert_exporter": "python",
   "pygments_lexer": "ipython3",
   "version": "3.6.4"
  }
 },
 "nbformat": 4,
 "nbformat_minor": 2
}
