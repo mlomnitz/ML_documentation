{
 "cells": [
  {
   "cell_type": "markdown",
   "metadata": {},
   "source": [
    "# kNN's\n",
    "Nearest neighbours is a supervised algorithms to predict the class a data point belongs to accroding to the class of the _k_ nearest neighbours. The procedure can be done according to auser input number fo nearest neighbours (hence the _k_) or without this input using a radius to select the nearest neightbous to be used in inference.\n",
    "\n",
    "In classfication we asign the predicted class as the most common amongst the nearest neighbours, in regression we can predict according to the average value of the nearest neighbour.\n",
    "\n",
    "These are known as non-generalizing ML algorithmns since they have to memorize the entire training data set\n",
    "\n",
    "### Pros:\n",
    "- Simple to interpret and implement.\n",
    "- Robust against outliers (they won't be near to anything) and noise.\n",
    "- Despite its simplicity, nearest neighbors has been successful in a large number of classification and regression problems.\n",
    "- Being non-parametric they can be succesful even in situations where the boundary is complex to describe.\n",
    "\n",
    "### Cons\n",
    " - High compute cost due to the fact that all examples need to be memorized.\n",
    " - Doesn't scale well with the number of features to include.\n",
    " - All decisions are made based on locality.\n",
    " - Metric for distances needs to be found through experimentation.\n",
    " - Inference time is slow since it is a lazy learner.\n",
    " \n",
    "### How it works\n",
    "\n",
    "Given a user specified number of neearest neighbours _k_, the algorithm calculates the distance from the point we want to classify to every point in the (labelled) training set. The points are sorted according to the distance to the point we are inferring on:  \n",
    "\n",
    " - For classification, the prediction is the most common or popular label among the top _k_ neighbourse\n",
    " - For regression, the prediction is the average value of the top _k_ neighbours\n",
    " \n",
    "### Illustrating the implementation from scratch (numpy)\n",
    "First lets initialize some dummy data consisting of two classes labelled 'A' and 'B'"
   ]
  },
  {
   "cell_type": "code",
   "execution_count": 145,
   "metadata": {},
   "outputs": [
    {
     "data": {
      "text/plain": [
       "<matplotlib.collections.PathCollection at 0x11ab86710>"
      ]
     },
     "execution_count": 145,
     "metadata": {},
     "output_type": "execute_result"
    },
    {
     "data": {
      "image/png": "[encoded data removed]",
      "text/plain": [
       "<Figure size 432x288 with 1 Axes>"
      ]
     },
     "metadata": {},
     "output_type": "display_data"
    }
   ],
   "source": [
    "import numpy as np\n",
    "import matplotlib.pyplot as plot\n",
    "import operator\n",
    "\n",
    "A = np.random.normal(0,0.1,size=(25,2))\n",
    "B = np.random.normal(0,0.1,size=(25,2))\n",
    "\n",
    "B[:,0]+=0.15\n",
    "B[:,1]+=0.15\n",
    "data_dict = {'A':A, 'B':B}\n",
    "#\n",
    "plot.scatter(A[:,0],A[:,1])\n",
    "plot.scatter(B[:,0],B[:,1])"
   ]
  },
  {
   "cell_type": "markdown",
   "metadata": {},
   "source": [
    "### Define functions implementing the kNN evaluation using L2 norm\n",
    "- Find the distances to all the points\n",
    "- Sort the points according to the distance to the test point and return most common class"
   ]
  },
  {
   "cell_type": "code",
   "execution_count": 141,
   "metadata": {},
   "outputs": [],
   "source": [
    "def find_distance( X, P):\n",
    "    return (X[:,0]-P[0])**2+(X[:,1]-P[1])**2\n",
    "\n",
    "def KNN_predict_label(lab_set,X, k):\n",
    "    distances = []\n",
    "    classes = {}\n",
    "    for key in lab_set:\n",
    "        this_dist = find_distance(lab_set[key],X)\n",
    "        for x in this_dist:\n",
    "            distances.append((x, key))\n",
    "        classes[key] = 0\n",
    "    distances.sort(key = operator.itemgetter(0))\n",
    "    for idx in range(k):\n",
    "        classes[distances[idx][1]]+=1\n",
    "    return max(classes.items(), key=operator.itemgetter(1))[0]"
   ]
  },
  {
   "cell_type": "markdown",
   "metadata": {},
   "source": [
    "### Run a test\n",
    "Given a number of neighbours and a test point we can return the new label"
   ]
  },
  {
   "cell_type": "code",
   "execution_count": 154,
   "metadata": {},
   "outputs": [
    {
     "name": "stdout",
     "output_type": "stream",
     "text": [
      "B\n"
     ]
    },
    {
     "data": {
      "text/plain": [
       "<matplotlib.collections.PathCollection at 0x11b16fd30>"
      ]
     },
     "execution_count": 154,
     "metadata": {},
     "output_type": "execute_result"
    },
    {
     "data": {
      "image/png": "[encoded data removed]",
      "text/plain": [
       "<Figure size 432x288 with 1 Axes>"
      ]
     },
     "metadata": {},
     "output_type": "display_data"
    }
   ],
   "source": [
    "k_neighbours = 5\n",
    "test_point = (0.12,0.07)\n",
    "print(KNN_predict_label(data_dict, test_point,5))\n",
    "plot.scatter(A[:,0],A[:,1])\n",
    "plot.scatter(B[:,0],B[:,1])\n",
    "plot.scatter(test_point[0],test_point[1] )"
   ]
  },
  {
   "cell_type": "code",
   "execution_count": null,
   "metadata": {},
   "outputs": [],
   "source": []
  }
 ],
 "metadata": {
  "kernelspec": {
   "display_name": "Python 3",
   "language": "python",
   "name": "python3"
  },
  "language_info": {
   "codemirror_mode": {
    "name": "ipython",
    "version": 3
   },
   "file_extension": ".py",
   "mimetype": "text/x-python",
   "name": "python",
   "nbconvert_exporter": "python",
   "pygments_lexer": "ipython3",
   "version": "3.6.4"
  }
 },
 "nbformat": 4,
 "nbformat_minor": 2
}
